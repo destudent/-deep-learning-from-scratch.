{
 "cells": [
  {
   "cell_type": "markdown",
   "metadata": {},
   "source": [
    "손실함수는 신경망에서 최적의 매개변수 값을 찾는 지표이다.\n",
    "일반적으로 오차제곱합과 교차 엔트로피 오차를 사용한다.\n"
   ]
  },
  {
   "cell_type": "code",
   "execution_count": 1,
   "metadata": {},
   "outputs": [
    {
     "name": "stdout",
     "output_type": "stream",
     "text": [
      "0.09750000000000003\n",
      "0.5975\n"
     ]
    }
   ],
   "source": [
    "import numpy as np\n",
    "\n",
    "#가장 많이 사용하는 손실 함수는 오차제곱합이다.\n",
    "\n",
    "def sum_squares_error(y,t):\n",
    "    return 0.5 * np.sum((y-t)**2)\n",
    "\n",
    "t = [0,0,1,0,0,0,0,0,0,0]\n",
    "\n",
    "# 예1: '2'일 확률이 가장 높다고 추정함\n",
    "y = [0.1,0.05,0.6,0.0,0.05,0.1,0.0,0.1,0,0]\n",
    "\n",
    "print(sum_squares_error(np.array(y),np.array(t)))\n",
    "\n",
    "\n",
    "#예2: '7'일 확률이 가장 높다고 추정함\n",
    "y = [0.1,0.05,0.1,0,0.05,0.1,0,0.6,0,0]\n",
    "print(sum_squares_error(np.array(y),np.array(t)))\n",
    "\n",
    "#0.0975 로 정답이 2이고 출력도 2 일 때 손실함수값이 적음을 알 수 있음\n",
    "#반대로 정답이 2일 때 출력이 7인 상황에는 손실함수값이 매우 높다.\n"
   ]
  },
  {
   "cell_type": "code",
   "execution_count": null,
   "metadata": {},
   "outputs": [],
   "source": [
    "#교차엔트로피오차는 0에 가까워질수록 loss값은 매우 작아지며 0에 멀어질 수록 loss값은 커진다.\n",
    "\n",
    "#교차 엔트로피 오차\n",
    "def cross_entropy_error(y,t):\n",
    "    delta=1e-7\n",
    "    return -np.sum(t*np.log(y+delta))#여기서 델타값은 아주 적은값을 더해 값이 절대 0이 되지않도록 방지하는 역할을 수행한다.\n",
    "\n"
   ]
  }
 ],
 "metadata": {
  "interpreter": {
   "hash": "52ee2977380704a66854748a73250e0671a9318bd5b3fd45a3df9f851ae61629"
  },
  "kernelspec": {
   "display_name": "Python 3.8.5 ('tf')",
   "language": "python",
   "name": "python3"
  },
  "language_info": {
   "codemirror_mode": {
    "name": "ipython",
    "version": 3
   },
   "file_extension": ".py",
   "mimetype": "text/x-python",
   "name": "python",
   "nbconvert_exporter": "python",
   "pygments_lexer": "ipython3",
   "version": "3.8.5"
  },
  "orig_nbformat": 4
 },
 "nbformat": 4,
 "nbformat_minor": 2
}
